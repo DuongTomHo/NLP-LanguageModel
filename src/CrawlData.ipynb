{
  "nbformat": 4,
  "nbformat_minor": 0,
  "metadata": {
    "colab": {
      "name": "CrawlData.ipynb",
      "provenance": [],
      "collapsed_sections": [],
      "toc_visible": true
    },
    "kernelspec": {
      "name": "python3",
      "display_name": "Python 3"
    }
  },
  "cells": [
    {
      "cell_type": "code",
      "metadata": {
        "colab": {
          "base_uri": "https://localhost:8080/"
        },
        "id": "lQ7fpgi5WmF2",
        "outputId": "47b7d13a-0481-4eb8-9b9c-9dedf243ab4f"
      },
      "source": [
        "!pip3 install requests"
      ],
      "execution_count": null,
      "outputs": [
        {
          "output_type": "stream",
          "text": [
            "Requirement already satisfied: requests in /usr/local/lib/python3.6/dist-packages (2.23.0)\n",
            "Requirement already satisfied: urllib3!=1.25.0,!=1.25.1,<1.26,>=1.21.1 in /usr/local/lib/python3.6/dist-packages (from requests) (1.24.3)\n",
            "Requirement already satisfied: chardet<4,>=3.0.2 in /usr/local/lib/python3.6/dist-packages (from requests) (3.0.4)\n",
            "Requirement already satisfied: certifi>=2017.4.17 in /usr/local/lib/python3.6/dist-packages (from requests) (2020.11.8)\n",
            "Requirement already satisfied: idna<3,>=2.5 in /usr/local/lib/python3.6/dist-packages (from requests) (2.10)\n"
          ],
          "name": "stdout"
        }
      ]
    },
    {
      "cell_type": "code",
      "metadata": {
        "colab": {
          "base_uri": "https://localhost:8080/"
        },
        "id": "k7lXVPE-XMfV",
        "outputId": "0395fc73-9188-475b-bf49-bb97bc3fbfe6"
      },
      "source": [
        "!pip3 install beautifulsoup4"
      ],
      "execution_count": null,
      "outputs": [
        {
          "output_type": "stream",
          "text": [
            "Requirement already satisfied: beautifulsoup4 in /usr/local/lib/python3.6/dist-packages (4.6.3)\n"
          ],
          "name": "stdout"
        }
      ]
    },
    {
      "cell_type": "code",
      "metadata": {
        "colab": {
          "base_uri": "https://localhost:8080/"
        },
        "id": "jaeAdsi9XqAR",
        "outputId": "aee0e592-26c3-4b4f-8910-e0f47902b669"
      },
      "source": [
        "from google.colab import drive\n",
        "drive.mount('/content/drive')"
      ],
      "execution_count": null,
      "outputs": [
        {
          "output_type": "stream",
          "text": [
            "Mounted at /content/drive\n"
          ],
          "name": "stdout"
        }
      ]
    },
    {
      "cell_type": "code",
      "metadata": {
        "id": "sChX9to9Xzq-"
      },
      "source": [
        "import requests\n",
        "from bs4 import BeautifulSoup\n",
        "import tqdm\n",
        "import pandas as pd\n",
        "import pickle\n",
        "import re"
      ],
      "execution_count": null,
      "outputs": []
    },
    {
      "cell_type": "markdown",
      "metadata": {
        "id": "Xe7fcmuQk26d"
      },
      "source": [
        "# Crawl Data"
      ]
    },
    {
      "cell_type": "code",
      "metadata": {
        "id": "rg_OK7KP9eag"
      },
      "source": [
        "urls = {\"https://hopamviet.vn/chord/category/1/nhac-vang/{}\": 2040,\n",
        "        \"https://hopamviet.vn/chord/category/2/nhac-tru-tinh/{}\": 7580, \n",
        "        \"https://hopamviet.vn/chord/category/3/nhac-tre/{}\": 10300, \n",
        "        \"https://hopamviet.vn/chord/category/4/nhac-que-huong/{}\": 860,\n",
        "        \"https://hopamviet.vn/chord/category/6/nhac-do/{}\": 320,\n",
        "        \"https://hopamviet.vn/chord/category/7/nhac-dan-ca/{}\": 60, \n",
        "        \"https://hopamviet.vn/chord/category/9/nhac-hoc-tro/{}\": 200,\n",
        "        \"https://hopamviet.vn/chord/category/10/nhac-thieu-nhi/{}\": 260, \n",
        "        \"https://hopamviet.vn/chord/category/11/nhac-thanh-ca/{}\": 640,\n",
        "        \"https://hopamviet.vn/chord/category/12/nhac-phat-giao/{}\": 240\n",
        "}\n"
      ],
      "execution_count": null,
      "outputs": []
    },
    {
      "cell_type": "code",
      "metadata": {
        "id": "HJmdIz-LJdyF"
      },
      "source": [
        "def crawler(songlist, url, index):\n",
        "  songNames = []\n",
        "  artists = []\n",
        "  links = []\n",
        "  for i in tqdm.tqdm(range(0, index, 20)):\n",
        "    print(url.format(i))\n",
        "    page = requests.get(url.format(i))\n",
        "    soup = BeautifulSoup(page.content, 'html.parser')\n",
        "    try: \n",
        "      for colmd12 in soup.find_all(\"div\", {\"class\": \"col-md-12\"}):\n",
        "        for h5 in colmd12.find_all(\"h5\"):\n",
        "          for a in h5.find_all(\"a\", recursive=False):\n",
        "            songNames.append(a.text)\n",
        "            links.append(a.get('href'))\n",
        "          for small in h5.find_all(\"small\"):\n",
        "            a = small.find_all(\"a\", recursive=False)\n",
        "            if a:\n",
        "              artists.append(a[0].text)\n",
        "    except:\n",
        "      print(\"LOI\")\n",
        "\n",
        "  for i in range(len(songNames)):\n",
        "    try:\n",
        "      songlist.append((songNames[i], artists[i], links[i]))\n",
        "    except:\n",
        "      print(\"Loi\")\n"
      ],
      "execution_count": null,
      "outputs": []
    },
    {
      "cell_type": "markdown",
      "metadata": {
        "id": "xow44MclpN1c"
      },
      "source": [
        "## Name"
      ]
    },
    {
      "cell_type": "code",
      "metadata": {
        "id": "-3uJHDJwpNFx"
      },
      "source": [
        ""
      ],
      "execution_count": null,
      "outputs": []
    },
    {
      "cell_type": "code",
      "metadata": {
        "id": "iXgbj7yHSfex"
      },
      "source": [
        "songs = []\n",
        "crawler(songs, \"https://hopamviet.vn/chord/category/1/nhac-vang/{}\", 2040)"
      ],
      "execution_count": null,
      "outputs": []
    },
    {
      "cell_type": "code",
      "metadata": {
        "id": "5YqAAEwdXXcD"
      },
      "source": [
        "file = open('nhacvang.pickle', 'wb')\n",
        "# dump information to that file\n",
        "pickle.dump(songs, file)\n",
        "# close the file\n",
        "file.close()"
      ],
      "execution_count": null,
      "outputs": []
    },
    {
      "cell_type": "code",
      "metadata": {
        "id": "-VNZ441vX2il"
      },
      "source": [
        "songs = []\n",
        "crawler(songs, \"https://hopamviet.vn/chord/category/2/nhac-tru-tinh/{}\", 7580)\n",
        "dumpPickle(\"nhactrutinh.pickle\", songs)"
      ],
      "execution_count": null,
      "outputs": []
    },
    {
      "cell_type": "code",
      "metadata": {
        "id": "aksMZdJTbbdJ"
      },
      "source": [
        "file = open('nhactrutinh.pickle', 'wb')\n",
        "# dump information to that file\n",
        "pickle.dump(songs, file)\n",
        "# close the file\n",
        "file.close()"
      ],
      "execution_count": null,
      "outputs": []
    },
    {
      "cell_type": "code",
      "metadata": {
        "id": "MrgmH0UmX2nR"
      },
      "source": [
        "songs = []\n",
        "crawler(songs, \"https://hopamviet.vn/chord/category/3/nhac-tre/{}\", 10300)\n"
      ],
      "execution_count": null,
      "outputs": []
    },
    {
      "cell_type": "code",
      "metadata": {
        "id": "1b81e4jmkWY6"
      },
      "source": [
        "file = open('nhactre.pickle', 'wb')\n",
        "# dump information to that file\n",
        "pickle.dump(songs, file)\n",
        "# close the file\n",
        "file.close()"
      ],
      "execution_count": null,
      "outputs": []
    },
    {
      "cell_type": "code",
      "metadata": {
        "id": "n-lnpUpwX2xr"
      },
      "source": [
        "songs = []\n",
        "crawler(songs, \"https://hopamviet.vn/chord/category/4/nhac-que-huong/{}\", 860)\n"
      ],
      "execution_count": null,
      "outputs": []
    },
    {
      "cell_type": "code",
      "metadata": {
        "id": "0GJc-npSkX0L"
      },
      "source": [
        "file = open('nhacquehuong.pickle', 'wb')\n",
        "# dump information to that file\n",
        "pickle.dump(songs, file)\n",
        "# close the file\n",
        "file.close()"
      ],
      "execution_count": null,
      "outputs": []
    },
    {
      "cell_type": "code",
      "metadata": {
        "id": "jYmBMk3wX2z9"
      },
      "source": [
        "songs = []\n",
        "crawler(songs, \"https://hopamviet.vn/chord/category/6/nhac-do/{}\", 320)\n"
      ],
      "execution_count": null,
      "outputs": []
    },
    {
      "cell_type": "code",
      "metadata": {
        "id": "sHsC2dMQkZQj"
      },
      "source": [
        "file = open(\"nhacdo.pickle\", 'wb')\n",
        "# dump information to that file\n",
        "pickle.dump(songs, file)\n",
        "# close the file\n",
        "file.close()"
      ],
      "execution_count": null,
      "outputs": []
    },
    {
      "cell_type": "code",
      "metadata": {
        "id": "8v7o4BknX2p1"
      },
      "source": [
        "songs = []\n",
        "crawler(songs, \"https://hopamviet.vn/chord/category/7/nhac-dan-ca/{}\", 60)\n"
      ],
      "execution_count": null,
      "outputs": []
    },
    {
      "cell_type": "code",
      "metadata": {
        "id": "F3tO-1y4kagC"
      },
      "source": [
        "file = open(\"nhacdanca.pickle\", 'wb')\n",
        "# dump information to that file\n",
        "pickle.dump(songs, file)\n",
        "# close the file\n",
        "file.close()"
      ],
      "execution_count": null,
      "outputs": []
    },
    {
      "cell_type": "code",
      "metadata": {
        "id": "Bi37czN-X2lB"
      },
      "source": [
        "songs = []\n",
        "crawler(songs, \"https://hopamviet.vn/chord/category/9/nhac-hoc-tro/{}\", 200)\n"
      ],
      "execution_count": null,
      "outputs": []
    },
    {
      "cell_type": "code",
      "metadata": {
        "id": "1At2_Qorkbuj"
      },
      "source": [
        "file = open(\"nhachoctro.pickle\", 'wb')\n",
        "# dump information to that file\n",
        "pickle.dump(songs, file)\n",
        "# close the file\n",
        "file.close()"
      ],
      "execution_count": null,
      "outputs": []
    },
    {
      "cell_type": "code",
      "metadata": {
        "id": "Aljs4qvqX2Cu"
      },
      "source": [
        "songs = []\n",
        "crawler(songs, \"https://hopamviet.vn/chord/category/10/nhac-thieu-nhi/{}\", 260)\n"
      ],
      "execution_count": null,
      "outputs": []
    },
    {
      "cell_type": "code",
      "metadata": {
        "id": "azUDcLj3kc-H"
      },
      "source": [
        "file = open(\"nhacthieunhi.pickle\", 'wb')\n",
        "# dump information to that file\n",
        "pickle.dump(songs, file)\n",
        "# close the file\n",
        "file.close()"
      ],
      "execution_count": null,
      "outputs": []
    },
    {
      "cell_type": "code",
      "metadata": {
        "id": "wUvl2ORbZXjh"
      },
      "source": [
        "songs = []\n",
        "crawler(songs, \"https://hopamviet.vn/chord/category/11/nhac-thanh-ca/{}\", 640)\n"
      ],
      "execution_count": null,
      "outputs": []
    },
    {
      "cell_type": "code",
      "metadata": {
        "id": "eXJCVT1BkeCI"
      },
      "source": [
        "file = open(\"nhacthanhca.pickle\", 'wb')\n",
        "# dump information to that file\n",
        "pickle.dump(songs, file)\n",
        "# close the file\n",
        "file.close()"
      ],
      "execution_count": null,
      "outputs": []
    },
    {
      "cell_type": "code",
      "metadata": {
        "id": "UhsBdBJhZXrj"
      },
      "source": [
        "songs = []\n",
        "crawler(songs, \"https://hopamviet.vn/chord/category/12/nhac-phat-giao/{}\", 240)\n"
      ],
      "execution_count": null,
      "outputs": []
    },
    {
      "cell_type": "code",
      "metadata": {
        "colab": {
          "base_uri": "https://localhost:8080/"
        },
        "id": "I1dfFuBbZXmA",
        "outputId": "91f8d5b4-edb3-457f-e1f9-f3ae175a371a"
      },
      "source": [
        "print(song[-1])"
      ],
      "execution_count": null,
      "outputs": [
        {
          "output_type": "stream",
          "text": [
            "('\\nÁo mới Cà Mau\\n', 'Thanh Sơn', 'https://hopamviet.vn/chord/song/ao-moi-ca-mau/W8IU0FCD.html')\n"
          ],
          "name": "stdout"
        }
      ]
    },
    {
      "cell_type": "code",
      "metadata": {
        "id": "JTqoh3sDZXpi"
      },
      "source": [
        "file = open(\"nhacphatgiao.pickle\", 'wb')\n",
        "# dump information to that file\n",
        "pickle.dump(songs, file)\n",
        "# close the file\n",
        "file.close()"
      ],
      "execution_count": null,
      "outputs": []
    },
    {
      "cell_type": "code",
      "metadata": {
        "id": "wtd49Yj1izET"
      },
      "source": [
        ""
      ],
      "execution_count": null,
      "outputs": []
    },
    {
      "cell_type": "markdown",
      "metadata": {
        "id": "iJEjMADtpWjz"
      },
      "source": [
        "## Lyrics\n"
      ]
    },
    {
      "cell_type": "code",
      "metadata": {
        "id": "8s5qHIWKl2XF"
      },
      "source": [
        "def crawlLyrics(listPath):\n",
        "  output = []\n",
        "  for item in listPath:\n",
        "    url = item[2]\n",
        "    try:\n",
        "      page = requests.get(url)\n",
        "      soup = BeautifulSoup(page.content, 'html.parser')\n",
        "      lyric = soup.find(\"div\", {\"id\": \"lyric\"})\n",
        "      output.append(lyric.text)\n",
        "    except:\n",
        "      print(\"Loi\")\n",
        "    \n",
        "  return output"
      ],
      "execution_count": null,
      "outputs": []
    },
    {
      "cell_type": "code",
      "metadata": {
        "id": "nT5OhMuRZXn6"
      },
      "source": [
        "songs = []\n",
        "with open(\"/content/drive/MyDrive/Dataset/NhacDatasets/nhacdo.pickle\", \"rb\") as fd:\n",
        "  songs = pickle.load(fd)\n",
        "\n",
        "output = []\n",
        "output = crawlLyrics(songs)\n",
        "\n",
        "with open(\"/content/drive/MyDrive/Colab Notebooks/LM/dataset2.txt\", \"a+\") as fd:\n",
        "  for elem in output:\n",
        "    # name = elem[0].strip('\\n')\n",
        "    # artist = elem[1].strip()\n",
        "    # lyric = elem[2].strip()\n",
        "    lyric = elem.strip()\n",
        "    newstring = '{}\\n'.format(lyric)\n",
        "    fd.write(newstring)"
      ],
      "execution_count": null,
      "outputs": []
    },
    {
      "cell_type": "code",
      "metadata": {
        "id": "ahOqbazvkpz-"
      },
      "source": [
        "songs = []\n",
        "with open(\"/content/drive/MyDrive/Dataset/NhacDatasets/nhachoctro.pickle\", \"rb\") as fd:\n",
        "  songs = pickle.load(fd)\n",
        "\n",
        "output = []\n",
        "output = crawlLyrics(songs)\n",
        "\n",
        "with open(\"/content/drive/MyDrive/Colab Notebooks/LM/dataset2.txt\", \"a+\") as fd:\n",
        "  for elem in output:\n",
        "    # name = elem[0].strip('\\n')\n",
        "    # artist = elem[1].strip()\n",
        "    # lyric = elem[2].strip()\n",
        "    lyric = elem.strip()\n",
        "    newstring = '{}\\n'.format(lyric)\n",
        "    fd.write(newstring)"
      ],
      "execution_count": null,
      "outputs": []
    },
    {
      "cell_type": "code",
      "metadata": {
        "id": "p2CvyDD_kpTd"
      },
      "source": [
        "songs = []\n",
        "with open(\"/content/drive/MyDrive/Dataset/NhacDatasets/nhacphatgiao.pickle\", \"rb\") as fd:\n",
        "  songs = pickle.load(fd)\n",
        "\n",
        "output = crawlLyrics(songs)\n",
        "\n",
        "with open(\"/content/drive/MyDrive/Colab Notebooks/LM/dataset2.txt\", \"a+\") as fd:\n",
        "  for elem in output:\n",
        "    # name = elem[0].strip('\\n')\n",
        "    # artist = elem[1].strip()\n",
        "    # lyric = elem[2].strip()\n",
        "    lyric = elem.strip()\n",
        "    newstring = '{}\\n'.format(lyric)\n",
        "    fd.write(newstring)"
      ],
      "execution_count": null,
      "outputs": []
    },
    {
      "cell_type": "code",
      "metadata": {
        "id": "Hn98ZFQD2lJv",
        "colab": {
          "base_uri": "https://localhost:8080/"
        },
        "outputId": "4aa3fcfd-4182-4217-92df-52e2d11fe153"
      },
      "source": [
        "songs = []\n",
        "with open(\"/content/drive/MyDrive/Dataset/NhacDatasets/nhacquehuong.pickle\", \"rb\") as fd:\n",
        "  songs = pickle.load(fd)\n",
        "\n",
        "output = crawlLyrics(songs)\n",
        "\n",
        "with open(\"/content/drive/MyDrive/Colab Notebooks/LM/dataset2.txt\", \"a+\") as fd:\n",
        "  for elem in output:\n",
        "    # name = elem[0].strip('\\n')\n",
        "    # artist = elem[1].strip()\n",
        "    # lyric = elem[2].strip()\n",
        "    lyric = elem.strip()\n",
        "    newstring = '{}\\n'.format(lyric)\n",
        "    fd.write(newstring)"
      ],
      "execution_count": null,
      "outputs": [
        {
          "output_type": "stream",
          "text": [
            "Loi\n"
          ],
          "name": "stdout"
        }
      ]
    },
    {
      "cell_type": "code",
      "metadata": {
        "id": "uNLaj3qN2lOh"
      },
      "source": [
        "songs = []\n",
        "with open(\"/content/drive/MyDrive/Dataset/NhacDatasets/nhacthanhca.pickle\", \"rb\") as fd:\n",
        "  songs = pickle.load(fd)\n",
        "\n",
        "output = crawlLyrics(songs)\n",
        "\n",
        "with open(\"/content/drive/MyDrive/Colab Notebooks/LM/dataset2.txt\", \"a+\") as fd:\n",
        "  for elem in output:\n",
        "    # name = elem[0].strip('\\n')\n",
        "    # artist = elem[1].strip()\n",
        "    # lyric = elem[2].strip()\n",
        "    lyric = elem.strip()\n",
        "    newstring = '{}\\n'.format(lyric)\n",
        "    fd.write(newstring)"
      ],
      "execution_count": null,
      "outputs": []
    },
    {
      "cell_type": "code",
      "metadata": {
        "id": "BwGE6ekI2lQL"
      },
      "source": [
        "songs = []\n",
        "with open(\"/content/drive/MyDrive/Dataset/NhacDatasets/nhacthieunhi.pickle\", \"rb\") as fd:\n",
        "  songs = pickle.load(fd)\n",
        "\n",
        "output = crawlLyrics(songs)\n",
        "\n",
        "with open(\"/content/drive/MyDrive/Colab Notebooks/LM/dataset2.txt\", \"a+\") as fd:\n",
        "  for elem in output:\n",
        "    # name = elem[0].strip('\\n')\n",
        "    # artist = elem[1].strip()\n",
        "    # lyric = elem[2].strip()\n",
        "    lyric = elem.strip()\n",
        "    newstring = '{}\\n'.format(lyric)\n",
        "    fd.write(newstring)"
      ],
      "execution_count": null,
      "outputs": []
    },
    {
      "cell_type": "code",
      "metadata": {
        "colab": {
          "base_uri": "https://localhost:8080/"
        },
        "id": "hpfNPIr22lMN",
        "outputId": "66b1cf30-e061-43fd-85c0-773c18ffcc8f"
      },
      "source": [
        "songs = []\n",
        "with open(\"/content/drive/MyDrive/Dataset/NhacDatasets/nhactre.pickle\", \"rb\") as fd:\n",
        "  songs = pickle.load(fd)\n",
        "\n",
        "output = crawlLyrics(songs)\n",
        "\n",
        "with open(\"/content/drive/MyDrive/Colab Notebooks/LM/dataset2.txt\", \"a+\") as fd:\n",
        "  for elem in output:\n",
        "    # name = elem[0].strip('\\n')\n",
        "    # artist = elem[1].strip()\n",
        "    # lyric = elem[2].strip()\n",
        "    lyric = elem.strip()\n",
        "    newstring = '{}\\n'.format(lyric)\n",
        "    fd.write(newstring)"
      ],
      "execution_count": null,
      "outputs": [
        {
          "output_type": "stream",
          "text": [
            "Loi\n",
            "Loi\n"
          ],
          "name": "stdout"
        }
      ]
    },
    {
      "cell_type": "code",
      "metadata": {
        "id": "kKc7LOqz2lHB",
        "colab": {
          "base_uri": "https://localhost:8080/"
        },
        "outputId": "ea764b38-ddef-4f82-d3c3-3341d976e2f0"
      },
      "source": [
        "songs = []\n",
        "with open(\"/content/drive/MyDrive/Dataset/NhacDatasets/nhactrutinh.pickle\", \"rb\") as fd:\n",
        "  songs = pickle.load(fd)\n",
        "\n",
        "output = crawlLyrics(songs)\n",
        "\n",
        "with open(\"/content/drive/MyDrive/Colab Notebooks/LM/dataset2.txt\", \"a+\") as fd:\n",
        "  for elem in output:\n",
        "    # name = elem[0].strip('\\n')\n",
        "    # artist = elem[1].strip()\n",
        "    # lyric = elem[2].strip()\n",
        "    lyric = elem.strip()\n",
        "    newstring = '{}\\n'.format(lyric)\n",
        "    fd.write(newstring)"
      ],
      "execution_count": null,
      "outputs": [
        {
          "output_type": "stream",
          "text": [
            "Loi\n"
          ],
          "name": "stdout"
        }
      ]
    },
    {
      "cell_type": "code",
      "metadata": {
        "id": "eHrXKCgG3gF3"
      },
      "source": [
        "songs = []\n",
        "with open(\"/content/drive/MyDrive/Dataset/NhacDatasets/nhacvang.pickle\", \"rb\") as fd:\n",
        "  songs = pickle.load(fd)\n",
        "\n",
        "output = crawlLyrics(songs)\n",
        "\n",
        "with open(\"/content/drive/MyDrive/Colab Notebooks/LM/dataset2.txt\", \"a+\") as fd:\n",
        "  for elem in output:\n",
        "    # name = elem[0].strip('\\n')\n",
        "    # artist = elem[1].strip()\n",
        "    # lyric = elem[2].strip()\n",
        "    lyric = elem.strip()\n",
        "    newstring = '{}\\n'.format(lyric)\n",
        "    fd.write(newstring)"
      ],
      "execution_count": null,
      "outputs": []
    },
    {
      "cell_type": "code",
      "metadata": {
        "id": "M2FPdNPJ3gHp"
      },
      "source": [
        ""
      ],
      "execution_count": null,
      "outputs": []
    }
  ]
}