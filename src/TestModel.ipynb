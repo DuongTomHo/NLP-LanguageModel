{
  "nbformat": 4,
  "nbformat_minor": 0,
  "metadata": {
    "colab": {
      "name": "Test.ipynb",
      "provenance": [],
      "collapsed_sections": []
    },
    "kernelspec": {
      "name": "python3",
      "display_name": "Python 3"
    },
    "accelerator": "GPU"
  },
  "cells": [
    {
      "cell_type": "code",
      "metadata": {
        "id": "DvESyn4oVbvg",
        "colab": {
          "base_uri": "https://localhost:8080/"
        },
        "outputId": "b48f477e-d6cc-4ba7-a050-9a8f795ac7eb"
      },
      "source": [
        "# If running with Google Colab\n",
        "from google.colab import drive\n",
        "drive.mount('/content/drive')"
      ],
      "execution_count": 1,
      "outputs": [
        {
          "output_type": "stream",
          "text": [
            "Mounted at /content/drive\n"
          ],
          "name": "stdout"
        }
      ]
    },
    {
      "cell_type": "code",
      "metadata": {
        "id": "aj-k97Smyr9J"
      },
      "source": [
        "dataFolder = '/content/drive/MyDrive/Colab Notebooks/LM'\n",
        "import os\n",
        "os.chdir(dataFolder)"
      ],
      "execution_count": 2,
      "outputs": []
    },
    {
      "cell_type": "code",
      "metadata": {
        "id": "tP3SXVKIYpn4",
        "colab": {
          "base_uri": "https://localhost:8080/"
        },
        "outputId": "8d97902f-69b7-4df7-f728-6f87c340d881"
      },
      "source": [
        "from pickle import load\n",
        "%tensorflow_version 1.x\n",
        "import tensorflow as tf\n",
        "from keras.models import load_model\n",
        "from keras.utils import to_categorical\n",
        "from keras.preprocessing.sequence import pad_sequences\n",
        "from keras import backend as K\n",
        "from keras.backend.tensorflow_backend import set_session\n",
        "import numpy as np\n",
        "import re"
      ],
      "execution_count": 3,
      "outputs": [
        {
          "output_type": "stream",
          "text": [
            "TensorFlow 1.x selected.\n"
          ],
          "name": "stdout"
        },
        {
          "output_type": "stream",
          "text": [
            "Using TensorFlow backend.\n"
          ],
          "name": "stderr"
        }
      ]
    },
    {
      "cell_type": "code",
      "metadata": {
        "id": "FzXsHMDAIdBM",
        "colab": {
          "base_uri": "https://localhost:8080/"
        },
        "outputId": "6b7fd0d9-d3cf-4ccd-ce00-278c94d4cbb3"
      },
      "source": [
        "## for tensor 1\n",
        "config = tf.ConfigProto()\n",
        "config.gpu_options.allow_growth = True  # dynamically grow the memory used on the GPU\n",
        "sess = tf.Session(config=config)\n",
        "set_session(sess)\n",
        "print(\"use-gpu:\", tf.test.gpu_device_name())\n",
        "print(\"Num GPUs Available: \", len(tf.config.experimental.list_physical_devices('GPU')))"
      ],
      "execution_count": 4,
      "outputs": [
        {
          "output_type": "stream",
          "text": [
            "use-gpu: /device:GPU:0\n",
            "Num GPUs Available:  1\n"
          ],
          "name": "stdout"
        }
      ]
    },
    {
      "cell_type": "code",
      "metadata": {
        "id": "9mvwIETcIdEI"
      },
      "source": [
        "SEQ_LENGTH = 16\n",
        "CORRECT_THRESHOLD = 0.001"
      ],
      "execution_count": 5,
      "outputs": []
    },
    {
      "cell_type": "code",
      "metadata": {
        "id": "mBQX05vEIdGu"
      },
      "source": [
        "def text_cleaner(text):\n",
        "    # lower case text\n",
        "    newString = text.lower()\n",
        "    newString = re.sub(r\"'s\\b\",\"\",newString)\n",
        "    # INTAB = \"ạảãàáâậầấẩẫăắằặẳẵóòọõỏôộổỗồốơờớợởỡéèẻẹẽêếềệểễúùụủũưựữửừứíìịỉĩýỳỷỵỹđẠẢÃÀÁÂẬẦẤẨẪĂẮẰẶẲẴÓÒỌÕỎÔỘỔỖỒỐƠỜỚỢỞỠÉÈẺẸẼÊẾỀỆỂỄÚÙỤỦŨƯỰỮỬỪỨÍÌỊỈĨÝỲỶỴỸĐ\"\n",
        "    newString = re.sub(\"[^a-zA-ZạảãàáâậầấẩẫăắằặẳẵóòọõỏôộổỗồốơờớợởỡéèẻẹẽêếềệểễúùụủũưựữửừứíìịỉĩýỳỷỵỹđẠẢÃÀÁÂẬẦẤẨẪĂẮẰẶẲẴÓÒỌÕỎÔỘỔỖỒỐƠỜỚỢỞỠÉÈẺẸẼÊẾỀỆỂỄÚÙỤỦŨƯỰỮỬỪỨÍÌỊỈĨÝỲỶỴỸĐ]\", \" \", newString)\n",
        "    # print('newString:',newString)\n",
        "    long_words=[]\n",
        "    # remove short word\n",
        "    for i in newString.split():\n",
        "      if len(i)>=1:\n",
        "        long_words.append(i)\n",
        "    return (\" \".join(long_words)).strip()\n",
        "\n",
        "def encode_string(mapping, seq_length, in_text):\n",
        "\t# encode the characters as integers\n",
        "\tencoded = [mapping[char] for char in in_text]\n",
        "\n",
        "\t# truncate sequences to a fixed length\n",
        "\tencoded = pad_sequences([encoded], maxlen=seq_length, truncating='pre')\n",
        "\treturn encoded\n",
        "\n",
        "def decode_string(mapping, in_text):\n",
        "\tout_text = \"\"\n",
        "\tfor i in range(len(in_text)):\n",
        "\t\tfor char, index in mapping.items():\n",
        "\t\t\tif index == in_text[i]:\n",
        "\t\t\t\tout_text += char\n",
        "\t\t\t\tbreak\n",
        "\treturn out_text\n",
        "\n",
        "def insert(source_str, insert_str, pos):\n",
        "    return source_str[:pos]+insert_str+source_str[pos:]\n",
        "\n",
        "def replace(source_str, insert_str, start_pos):\n",
        "\tsource_list = list(source_str)\n",
        "\tif (start_pos > len(source_list)):\n",
        "\t\treturn source_str\n",
        "\tfor i in range(len(insert_str)):\n",
        "\t\tsource_list[start_pos + i] = insert_str[i]\n",
        "\treturn ''.join(source_list)"
      ],
      "execution_count": 6,
      "outputs": []
    },
    {
      "cell_type": "code",
      "metadata": {
        "id": "WCahXE8tIdI9",
        "colab": {
          "base_uri": "https://localhost:8080/"
        },
        "outputId": "89ce7c4c-3253-42b9-c769-9a3fa560d975"
      },
      "source": [
        "# load the model\n",
        "model = load_model('model1.h5')\n",
        "\n",
        "# load the mapping\n",
        "mapping = load(open('name_data_mapping.pkl', 'rb'))\n",
        "\n",
        "# vocabulary size\n",
        "vocab_size = len(mapping)\n",
        "print('Vocabulary Size: %d' % vocab_size)\n",
        "\n",
        "print(\"Number of left layers: %d\" % len(model.layers))"
      ],
      "execution_count": 7,
      "outputs": [
        {
          "output_type": "stream",
          "text": [
            "WARNING:tensorflow:From /tensorflow-1.15.2/python3.6/tensorflow_core/python/ops/resource_variable_ops.py:1630: calling BaseResourceVariable.__init__ (from tensorflow.python.ops.resource_variable_ops) with constraint is deprecated and will be removed in a future version.\n",
            "Instructions for updating:\n",
            "If using Keras pass *_constraint arguments to layers.\n",
            "WARNING:tensorflow:From /tensorflow-1.15.2/python3.6/keras/backend/tensorflow_backend.py:422: The name tf.global_variables is deprecated. Please use tf.compat.v1.global_variables instead.\n",
            "\n",
            "Vocabulary Size: 97\n",
            "Number of left layers: 4\n"
          ],
          "name": "stdout"
        }
      ]
    },
    {
      "cell_type": "code",
      "metadata": {
        "id": "SqPsLsuceZp9"
      },
      "source": [
        "idx_char_mapping = dict([(value, key) for key, value in mapping.items()]) "
      ],
      "execution_count": 8,
      "outputs": []
    },
    {
      "cell_type": "code",
      "metadata": {
        "id": "2N5eegUGea6K"
      },
      "source": [
        "def next_char_predict(model, mapping, seq_length, seed_text, num=5):\n",
        "  in_text = text_cleaner(seed_text)\n",
        "  # print('===', in_text)\n",
        "  out_text = in_text[:]\n",
        "  # print(';;;;;;;;', out_text)\n",
        "  i = len(in_text)\n",
        "\n",
        "  out_text_predict_encode = encode_string(mapping, seq_length, out_text)\n",
        "  # print('1:', out_text_predict_encode)\n",
        "  proba_list_char = model.predict_proba(out_text_predict_encode)\n",
        "  index_char_list = np.argsort(proba_list_char[0])[-5:][::-1]\n",
        "  probability = proba_list_char[0][index_char_list]\n",
        "  result = [idx_char_mapping[idx] for idx in index_char_list]\n",
        "  # print('res1:', result)\n",
        "  result = list(zip(result,list(probability)))\n",
        "  return result"
      ],
      "execution_count": 9,
      "outputs": []
    },
    {
      "cell_type": "code",
      "metadata": {
        "id": "G-OlfhZ6eiM1",
        "colab": {
          "base_uri": "https://localhost:8080/"
        },
        "outputId": "77aa2d83-7565-4af2-c5be-898120d75163"
      },
      "source": [
        "while True:\n",
        "    inputText = input('Input: ')\n",
        "    output = inputText\n",
        "    if (inputText == 'Exit'): break\n",
        "    recs = next_char_predict(model, mapping, SEQ_LENGTH, inputText, num=5)\n",
        "    for idx, res in enumerate(recs):\n",
        "      print(f\"Output {idx+1} :\", output + res[0],\"\\t Probability:\", res[1])\n",
        "    print('\\n')"
      ],
      "execution_count": 10,
      "outputs": [
        {
          "output_type": "stream",
          "text": [
            "Input: chiều nay khôn\n",
            "Output 1 : chiều nay không \t Probability: 0.9999974\n",
            "Output 2 : chiều nay khôn  \t Probability: 2.474856e-06\n",
            "Output 3 : chiều nay khônh \t Probability: 1.0089005e-07\n",
            "Output 4 : chiều nay khônở \t Probability: 3.1766674e-09\n",
            "Output 5 : chiều nay khônc \t Probability: 4.1441098e-10\n",
            "\n",
            "\n",
            "Input: một chiều th\n",
            "Output 1 : một chiều thu \t Probability: 0.30719784\n",
            "Output 2 : một chiều thứ \t Probability: 0.11248338\n",
            "Output 3 : một chiều tha \t Probability: 0.08818023\n",
            "Output 4 : một chiều thư \t Probability: 0.06692345\n",
            "Output 5 : một chiều the \t Probability: 0.05865804\n",
            "\n",
            "\n",
            "Input: chiều chủ nhậ\n",
            "Output 1 : chiều chủ nhật \t Probability: 0.9629889\n",
            "Output 2 : chiều chủ nhận \t Probability: 0.027300702\n",
            "Output 3 : chiều chủ nhậm \t Probability: 0.0095649995\n",
            "Output 4 : chiều chủ nhập \t Probability: 9.889818e-05\n",
            "Output 5 : chiều chủ nhậu \t Probability: 4.2497508e-05\n",
            "\n",
            "\n",
            "Input: hoa rơi cửa ph\n",
            "Output 1 : hoa rơi cửa phủ \t Probability: 0.38630292\n",
            "Output 2 : hoa rơi cửa phư \t Probability: 0.13650617\n",
            "Output 3 : hoa rơi cửa phũ \t Probability: 0.08292485\n",
            "Output 4 : hoa rơi cửa phấ \t Probability: 0.071128294\n",
            "Output 5 : hoa rơi cửa phụ \t Probability: 0.059317295\n",
            "\n",
            "\n",
            "Input: hoa si\n",
            "Output 1 : hoa sin \t Probability: 0.87191266\n",
            "Output 2 : hoa sim \t Probability: 0.09552595\n",
            "Output 3 : hoa si  \t Probability: 0.009682907\n",
            "Output 4 : hoa siệ \t Probability: 0.008581784\n",
            "Output 5 : hoa siế \t Probability: 0.0063012657\n",
            "\n",
            "\n",
            "Input: hạnh phúc mon\n",
            "Output 1 : hạnh phúc mong \t Probability: 1.0\n",
            "Output 2 : hạnh phúc mon  \t Probability: 3.1637075e-08\n",
            "Output 3 : hạnh phúc monặ \t Probability: 2.6011392e-08\n",
            "Output 4 : hạnh phúc mon} \t Probability: 4.4367354e-09\n",
            "Output 5 : hạnh phúc moni \t Probability: 1.8450108e-09\n",
            "\n",
            "\n",
            "Input: chiề\n",
            "Output 1 : chiền \t Probability: 0.9759822\n",
            "Output 2 : chiề} \t Probability: 0.012971642\n",
            "Output 3 : chiềm \t Probability: 0.0068918522\n",
            "Output 4 : chiề  \t Probability: 0.0021931971\n",
            "Output 5 : chiều \t Probability: 0.0019610706\n",
            "\n",
            "\n",
            "Input: Exit\n"
          ],
          "name": "stdout"
        }
      ]
    },
    {
      "cell_type": "code",
      "metadata": {
        "id": "VbUBwVdZJuwo"
      },
      "source": [
        "def correct_one_mistake_multi_choice_with_proba(model, mapping, input_text, num=5):\n",
        "\n",
        "\t\"\"\"\n",
        "\t\"\"\"\n",
        "\tin_text = text_cleaner(input_text)\n",
        "  # out_text = in_text[0:5]\n",
        "\tout_text_predict = in_text[0:5]\n",
        "\ti = 5\n",
        "\tresults = \"\"\n",
        "\tproba_results = []\n",
        "\tproba_correct = 1.0\n",
        "\twhile True:\n",
        "\t\tout_text_predict_encode = encode_string(mapping , SEQ_LENGTH, out_text_predict)\n",
        "\t\tproba_list_char = model.predict_proba(out_text_predict_encode)\n",
        "\t\tnext_char = model.predict_classes(out_text_predict_encode)\n",
        "\t\t\n",
        "\t\tif ((i+1 <= len(in_text)-1) and int(next_char) != mapping[in_text[i]]):\n",
        "\t\t\tif (proba_list_char[0][mapping[in_text[i]]] > CORRECT_THRESHOLD):\n",
        "\t\t\t\t# out_text += in_text[i]\n",
        "\t\t\t\tpass\n",
        "\t\t\telse:\n",
        "\t\t\t\tif (proba_list_char[0][mapping[in_text[i]]] < proba_correct): \n",
        "\t\t\t\t\tproba_correct = proba_list_char[0][mapping[in_text[i]]]\n",
        "\t\t\t\t\tindex_char_list = np.argpartition(proba_list_char, -num)[0,-num:]\n",
        "\t\t\t\t\tindex_char_list = index_char_list[np.argsort(proba_list_char[0][index_char_list])][::-1]\n",
        "\t\t\t\t\t\n",
        "\t\t\t\t\tproba_results = proba_list_char[0, index_char_list]\n",
        "\n",
        "\t\t\t\t\tresults = [out_text_predict + idx_char_mapping[idx] + in_text[i+1:] for idx in index_char_list]\n",
        "\n",
        "\t\t\t\t\t# if(decode_string(mapping, next_char) == ' ' and in_text[i] != ' '):\n",
        "\t\t\t\t\t# \ttemp = in_text[i:]\n",
        "\t\t\t\t\t# \tin_text = in_text[0:i]\n",
        "\t\t\t\t\t# \tin_text = in_text + ' ' + temp\n",
        "\t\telse:\n",
        "\t\t\t# out_text+=in_text[i]\n",
        "\t\t\tpass\n",
        "    \n",
        "\t\tif(i < len(in_text)-1):\n",
        "\t\t\tout_text_predict += in_text[i]\n",
        "\t\t\ti = i + 1\n",
        "\t\telse:\n",
        "\t\t\tbreak\n",
        "\treturn results, proba_results"
      ],
      "execution_count": null,
      "outputs": []
    },
    {
      "cell_type": "code",
      "metadata": {
        "id": "eNS1p8_dJv-V",
        "colab": {
          "base_uri": "https://localhost:8080/"
        },
        "outputId": "b90eb0bb-9812-4056-8b53-dc1157008a6a"
      },
      "source": [
        "while True:\n",
        "    inputText = input('Input: ')\n",
        "    if (inputText == 'Exit'): break\n",
        "    results, c = correct_one_mistake_multi_choice_with_proba(model, mapping, inputText)\n",
        "    for idx, out in enumerate(results):\n",
        "      print(f\"output {idx+1}: {out} -- with probality: {c[idx]}\")"
      ],
      "execution_count": null,
      "outputs": [
        {
          "output_type": "stream",
          "text": [
            "Input: trên cánh cây chim hòt\n",
            "output 1: trên cánh cây chim hót -- with probality: 0.5316782593727112\n",
            "output 2: trên cánh cây chim hút -- with probality: 0.15933409333229065\n",
            "output 3: trên cánh cây chim hảt -- with probality: 0.06863003969192505\n",
            "output 4: trên cánh cây chim hát -- with probality: 0.06276942789554596\n",
            "output 5: trên cánh cây chim hàt -- with probality: 0.03417752683162689\n",
            "Input: chiếu cà mau cằm\n",
            "output 1: chiếu cà mau chm -- with probality: 0.355904221534729\n",
            "output 2: chiếu cà mau cúm -- with probality: 0.11574748158454895\n",
            "output 3: chiếu cà mau cóm -- with probality: 0.10173878818750381\n",
            "output 4: chiếu cà mau cám -- with probality: 0.06571568548679352\n",
            "output 5: chiếu cà mau cưm -- with probality: 0.04660026356577873\n",
            "Input: chiếc chiếu mời\n",
            "output 1: chiếc chiến mời -- with probality: 0.9097655415534973\n",
            "output 2: chiếc chiếc mời -- with probality: 0.08846404403448105\n",
            "output 3: chiếc chiếm mời -- with probality: 0.0013353683752939105\n",
            "output 4: chiếc chiếu mời -- with probality: 0.00033885755692608654\n",
            "output 5: chiếc chiếp mời -- with probality: 8.987531327875331e-05\n",
            "Input: tấm danh thi\n",
            "Input: tấm danh thiệp \n",
            "Input: tấm danh thiệp trễn bàn\n",
            "output 1: tấm danh thiệp trận bàn -- with probality: 0.3004680871963501\n",
            "output 2: tấm danh thiệp trên bàn -- with probality: 0.21423792839050293\n",
            "output 3: tấm danh thiệp trưn bàn -- with probality: 0.19422826170921326\n",
            "output 4: tấm danh thiệp tròn bàn -- with probality: 0.07074975967407227\n",
            "output 5: tấm danh thiệp tran bàn -- with probality: 0.06980669498443604\n",
            "Input: tấm danh thiếp trễn bàn\n",
            "output 1: tấm danh thiếp trễ  bàn -- with probality: 0.7727603912353516\n",
            "output 2: tấm danh thiếp trễ} bàn -- with probality: 0.22722969949245453\n",
            "output 3: tấm danh thiếp trễn bàn -- with probality: 8.350206371687818e-06\n",
            "output 4: tấm danh thiếp trễm bàn -- with probality: 1.3306465689311153e-06\n",
            "output 5: tấm danh thiếp trễu bàn -- with probality: 1.8227727593966847e-07\n",
            "Input: tấm thiệp màu hống\n",
            "output 1: tấm thiệp màu hong -- with probality: 0.8645856976509094\n",
            "output 2: tấm thiệp màu hưng -- with probality: 0.060316428542137146\n",
            "output 3: tấm thiệp màu hèng -- with probality: 0.02358389087021351\n",
            "output 4: tấm thiệp màu hồng -- with probality: 0.009917974472045898\n",
            "output 5: tấm thiệp màu hơng -- with probality: 0.009196552447974682\n",
            "Input: chiều thu giò bay\n",
            "output 1: chiều thu giờ bay -- with probality: 0.31088772416114807\n",
            "output 2: chiều thu gió bay -- with probality: 0.2791822552680969\n",
            "output 3: chiều thu giă bay -- with probality: 0.20855934917926788\n",
            "output 4: chiều thu gie bay -- with probality: 0.14398960769176483\n",
            "output 5: chiều thu giá bay -- with probality: 0.01576925814151764\n",
            "Input: vùng là me bay\n",
            "Input: vùng là me bay chiều\n",
            "Input: chiếu cà mau cằm xáo trên\n",
            "output 1: chiếu cà mau cằm xác trên -- with probality: 0.8772363066673279\n",
            "output 2: chiếu cà mau cằm xám trên -- with probality: 0.11295513808727264\n",
            "output 3: chiếu cà mau cằm xát trên -- with probality: 0.006678468082100153\n",
            "output 4: chiếu cà mau cằm xán trên -- with probality: 0.001910882885567844\n",
            "output 5: chiếu cà mau cằm xá  trên -- with probality: 0.0011052266927435994\n",
            "Input: chiếu cà mau cắm xáo trên\n",
            "Input: Exit\n"
          ],
          "name": "stdout"
        }
      ]
    }
  ]
}